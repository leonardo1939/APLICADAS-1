{
  "nbformat": 4,
  "nbformat_minor": 0,
  "metadata": {
    "colab": {
      "provenance": [],
      "authorship_tag": "ABX9TyMr2YeVj/Z6KxIllL6wYb9n",
      "include_colab_link": true
    },
    "kernelspec": {
      "name": "python3",
      "display_name": "Python 3"
    },
    "language_info": {
      "name": "python"
    }
  },
  "cells": [
    {
      "cell_type": "markdown",
      "metadata": {
        "id": "view-in-github",
        "colab_type": "text"
      },
      "source": [
        "<a href=\"https://colab.research.google.com/github/leonardo1939/APLICADAS-1/blob/main/Python.ipynb\" target=\"_parent\"><img src=\"https://colab.research.google.com/assets/colab-badge.svg\" alt=\"Open In Colab\"/></a>"
      ]
    },
    {
      "cell_type": "markdown",
      "source": [],
      "metadata": {
        "id": "ztsjV6NTHH80"
      }
    },
    {
      "cell_type": "markdown",
      "source": [
        "2. segudo punto"
      ],
      "metadata": {
        "id": "OYb0m1iUHLXp"
      }
    },
    {
      "cell_type": "code",
      "source": [
        "result = (3 * (-5 + 10 + (-5)) - 2 * (-2 + (-4) + 10))^2\n",
        "print(result)"
      ],
      "metadata": {
        "colab": {
          "base_uri": "https://localhost:8080/"
        },
        "id": "_jCNW9NaCm3V",
        "outputId": "548897c7-1579-47c8-bf30-2ca1c4f70c0f"
      },
      "execution_count": 13,
      "outputs": [
        {
          "output_type": "stream",
          "name": "stdout",
          "text": [
            "-6\n"
          ]
        }
      ]
    },
    {
      "cell_type": "code",
      "source": [
        "result = 45 + (3 * (2 + 8) - 8 / 4) + 10 - 83\n",
        "print(result)"
      ],
      "metadata": {
        "colab": {
          "base_uri": "https://localhost:8080/"
        },
        "id": "GettKxMuHkBE",
        "outputId": "f1b6b6e7-b63a-4c79-b317-9dbec99ebc5f"
      },
      "execution_count": 14,
      "outputs": [
        {
          "output_type": "stream",
          "name": "stdout",
          "text": [
            "0.0\n"
          ]
        }
      ]
    },
    {
      "cell_type": "code",
      "source": [
        "result = ((-4 + 7) * 2 - 10) * (-4) - 7 + -3\n",
        "print(result)"
      ],
      "metadata": {
        "colab": {
          "base_uri": "https://localhost:8080/"
        },
        "id": "Vr4yL5VkIQQA",
        "outputId": "c9b33419-ace1-434f-e176-c85649602eeb"
      },
      "execution_count": 18,
      "outputs": [
        {
          "output_type": "stream",
          "name": "stdout",
          "text": [
            "6\n"
          ]
        }
      ]
    }
  ]
}