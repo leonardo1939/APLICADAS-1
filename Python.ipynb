{
  "nbformat": 4,
  "nbformat_minor": 0,
  "metadata": {
    "colab": {
      "provenance": [],
      "authorship_tag": "ABX9TyO7wfiPbLDof1wKAHMhIUe+",
      "include_colab_link": true
    },
    "kernelspec": {
      "name": "python3",
      "display_name": "Python 3"
    },
    "language_info": {
      "name": "python"
    }
  },
  "cells": [
    {
      "cell_type": "markdown",
      "metadata": {
        "id": "view-in-github",
        "colab_type": "text"
      },
      "source": [
        "<a href=\"https://colab.research.google.com/github/leonardo1939/APLICADAS-1/blob/main/Python.ipynb\" target=\"_parent\"><img src=\"https://colab.research.google.com/assets/colab-badge.svg\" alt=\"Open In Colab\"/></a>"
      ]
    },
    {
      "cell_type": "markdown",
      "source": [],
      "metadata": {
        "id": "ztsjV6NTHH80"
      }
    },
    {
      "cell_type": "markdown",
      "source": [
        "2. segudo punto"
      ],
      "metadata": {
        "id": "OYb0m1iUHLXp"
      }
    },
    {
      "cell_type": "code",
      "source": [
        "result = (3 * (-5 + 10 + (-5)) - 2 * (-2 + (-4) + 10))^2\n",
        "print(result)"
      ],
      "metadata": {
        "colab": {
          "base_uri": "https://localhost:8080/"
        },
        "id": "_jCNW9NaCm3V",
        "outputId": "548897c7-1579-47c8-bf30-2ca1c4f70c0f"
      },
      "execution_count": 13,
      "outputs": [
        {
          "output_type": "stream",
          "name": "stdout",
          "text": [
            "-6\n"
          ]
        }
      ]
    }
  ]
}